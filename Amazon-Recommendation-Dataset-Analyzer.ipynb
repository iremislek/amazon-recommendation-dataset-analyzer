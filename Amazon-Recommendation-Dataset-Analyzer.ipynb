{
 "cells": [
  {
   "cell_type": "markdown",
   "id": "charged-blast",
   "metadata": {},
   "source": [
    "# Amazon Recommendation Review Dataset Analyzer"
   ]
  },
  {
   "cell_type": "code",
   "execution_count": 27,
   "id": "coordinate-front",
   "metadata": {},
   "outputs": [],
   "source": [
    "import gzip\n",
    "import json\n",
    "import re\n",
    "\n",
    "import pandas as pd\n",
    "import matplotlib.pyplot as plt"
   ]
  },
  {
   "cell_type": "code",
   "execution_count": 2,
   "id": "surface-connecticut",
   "metadata": {},
   "outputs": [],
   "source": [
    "review_dataset_folder_path = \"../dataset/amazon_beauty/All_Beauty.json.gz\""
   ]
  },
  {
   "cell_type": "code",
   "execution_count": 3,
   "id": "raised-smile",
   "metadata": {},
   "outputs": [],
   "source": [
    "def print_boxplot(title, data):\n",
    "    fig1, ax1 = plt.subplots(figsize=(16,4))\n",
    "    ax1.set_title(title)\n",
    "    ax1.boxplot(data, showfliers=False, vert=False)\n",
    "\n",
    "    plt.show()"
   ]
  },
  {
   "cell_type": "code",
   "execution_count": 4,
   "id": "conceptual-legislation",
   "metadata": {},
   "outputs": [],
   "source": [
    "def parse(path):\n",
    "    \"\"\"\n",
    "    This function reads Amazon json gz file from given path.\n",
    "\n",
    "    :param path     : The path of the Amazon dataset folder.\n",
    "    \"\"\"\n",
    "\n",
    "    g = gzip.open(path, 'r')\n",
    "    for line in g:\n",
    "        yield json.loads(line)\n",
    "        \n",
    "def convert_to_df(path):\n",
    "    \"\"\"\n",
    "    Generates a dataframe from Amazon dataset folder.\n",
    "\n",
    "    :param path     : Amazon dataset path\n",
    "    :return         : A dataframe\n",
    "    \"\"\"\n",
    "\n",
    "    i = 0\n",
    "    df = {}\n",
    "    for d in parse(path):\n",
    "        df[i] = d\n",
    "        i += 1\n",
    "    return pd.DataFrame.from_dict(df, orient='index')\n",
    "\n",
    "review_df = convert_to_df(review_dataset_folder_path)"
   ]
  },
  {
   "cell_type": "code",
   "execution_count": 28,
   "id": "distributed-violence",
   "metadata": {},
   "outputs": [],
   "source": [
    "def preprocess_text(text):\n",
    "    \"\"\"\n",
    "    This function converts input text to lowercase, clears punctuations.\n",
    "\n",
    "    :param text     : Input text\n",
    "    :return         : Preprocessed text\n",
    "    \"\"\"\n",
    "    text = str(text).lower()\n",
    "    text = re.sub('[^A-Za-z ]+', '', str(text))\n",
    "\n",
    "    return text\n",
    "\n",
    "def clean_text_column(df, column_name):\n",
    "    \"\"\"\n",
    "    This function cleans the given column of the given dataframe.\n",
    "\n",
    "    :param df           : Input dataframe\n",
    "    :param column_name  : The name of the column to clean\n",
    "    :return             : Updated dataframe\n",
    "    \"\"\"\n",
    "\n",
    "    df[column_name] = df[column_name].apply(lambda x: preprocess_text(x))\n",
    "\n",
    "    return df"
   ]
  },
  {
   "cell_type": "code",
   "execution_count": 5,
   "id": "substantial-omaha",
   "metadata": {},
   "outputs": [
    {
     "data": {
      "text/html": [
       "<div>\n",
       "<style scoped>\n",
       "    .dataframe tbody tr th:only-of-type {\n",
       "        vertical-align: middle;\n",
       "    }\n",
       "\n",
       "    .dataframe tbody tr th {\n",
       "        vertical-align: top;\n",
       "    }\n",
       "\n",
       "    .dataframe thead th {\n",
       "        text-align: right;\n",
       "    }\n",
       "</style>\n",
       "<table border=\"1\" class=\"dataframe\">\n",
       "  <thead>\n",
       "    <tr style=\"text-align: right;\">\n",
       "      <th></th>\n",
       "      <th>overall</th>\n",
       "      <th>verified</th>\n",
       "      <th>reviewTime</th>\n",
       "      <th>reviewerID</th>\n",
       "      <th>asin</th>\n",
       "      <th>reviewerName</th>\n",
       "      <th>reviewText</th>\n",
       "      <th>summary</th>\n",
       "      <th>unixReviewTime</th>\n",
       "      <th>vote</th>\n",
       "      <th>style</th>\n",
       "      <th>image</th>\n",
       "    </tr>\n",
       "  </thead>\n",
       "  <tbody>\n",
       "    <tr>\n",
       "      <th>0</th>\n",
       "      <td>1.0</td>\n",
       "      <td>True</td>\n",
       "      <td>02 19, 2015</td>\n",
       "      <td>A1V6B6TNIC10QE</td>\n",
       "      <td>0143026860</td>\n",
       "      <td>theodore j bigham</td>\n",
       "      <td>great</td>\n",
       "      <td>One Star</td>\n",
       "      <td>1424304000</td>\n",
       "      <td>NaN</td>\n",
       "      <td>NaN</td>\n",
       "      <td>NaN</td>\n",
       "    </tr>\n",
       "    <tr>\n",
       "      <th>1</th>\n",
       "      <td>4.0</td>\n",
       "      <td>True</td>\n",
       "      <td>12 18, 2014</td>\n",
       "      <td>A2F5GHSXFQ0W6J</td>\n",
       "      <td>0143026860</td>\n",
       "      <td>Mary K. Byke</td>\n",
       "      <td>My  husband wanted to reading about the Negro ...</td>\n",
       "      <td>... to reading about the Negro Baseball and th...</td>\n",
       "      <td>1418860800</td>\n",
       "      <td>NaN</td>\n",
       "      <td>NaN</td>\n",
       "      <td>NaN</td>\n",
       "    </tr>\n",
       "    <tr>\n",
       "      <th>2</th>\n",
       "      <td>4.0</td>\n",
       "      <td>True</td>\n",
       "      <td>08 10, 2014</td>\n",
       "      <td>A1572GUYS7DGSR</td>\n",
       "      <td>0143026860</td>\n",
       "      <td>David G</td>\n",
       "      <td>This book was very informative, covering all a...</td>\n",
       "      <td>Worth the Read</td>\n",
       "      <td>1407628800</td>\n",
       "      <td>NaN</td>\n",
       "      <td>NaN</td>\n",
       "      <td>NaN</td>\n",
       "    </tr>\n",
       "    <tr>\n",
       "      <th>3</th>\n",
       "      <td>5.0</td>\n",
       "      <td>True</td>\n",
       "      <td>03 11, 2013</td>\n",
       "      <td>A1PSGLFK1NSVO</td>\n",
       "      <td>0143026860</td>\n",
       "      <td>TamB</td>\n",
       "      <td>I am already a baseball fan and knew a bit abo...</td>\n",
       "      <td>Good Read</td>\n",
       "      <td>1362960000</td>\n",
       "      <td>NaN</td>\n",
       "      <td>NaN</td>\n",
       "      <td>NaN</td>\n",
       "    </tr>\n",
       "    <tr>\n",
       "      <th>4</th>\n",
       "      <td>5.0</td>\n",
       "      <td>True</td>\n",
       "      <td>12 25, 2011</td>\n",
       "      <td>A6IKXKZMTKGSC</td>\n",
       "      <td>0143026860</td>\n",
       "      <td>shoecanary</td>\n",
       "      <td>This was a good story of the Black leagues. I ...</td>\n",
       "      <td>More than facts, a good story read!</td>\n",
       "      <td>1324771200</td>\n",
       "      <td>5</td>\n",
       "      <td>NaN</td>\n",
       "      <td>NaN</td>\n",
       "    </tr>\n",
       "    <tr>\n",
       "      <th>5</th>\n",
       "      <td>5.0</td>\n",
       "      <td>False</td>\n",
       "      <td>02 26, 2010</td>\n",
       "      <td>A36NF437WZLQ9E</td>\n",
       "      <td>0143026860</td>\n",
       "      <td>W. Powell</td>\n",
       "      <td>Today I gave a book about the Negro Leagues of...</td>\n",
       "      <td>The Gift of Black Baseball</td>\n",
       "      <td>1267142400</td>\n",
       "      <td>4</td>\n",
       "      <td>NaN</td>\n",
       "      <td>NaN</td>\n",
       "    </tr>\n",
       "    <tr>\n",
       "      <th>6</th>\n",
       "      <td>4.0</td>\n",
       "      <td>False</td>\n",
       "      <td>03 7, 2001</td>\n",
       "      <td>A10Q8NIFOVOHFV</td>\n",
       "      <td>0143026860</td>\n",
       "      <td>Robert S. Clay Jr.</td>\n",
       "      <td>The story of race relations in American histor...</td>\n",
       "      <td>Baseball, America, and racism.</td>\n",
       "      <td>983923200</td>\n",
       "      <td>14</td>\n",
       "      <td>NaN</td>\n",
       "      <td>NaN</td>\n",
       "    </tr>\n",
       "    <tr>\n",
       "      <th>7</th>\n",
       "      <td>1.0</td>\n",
       "      <td>True</td>\n",
       "      <td>04 10, 2017</td>\n",
       "      <td>A26PO1B2Q2G1CS</td>\n",
       "      <td>014789302X</td>\n",
       "      <td>Jacqueline Diaz</td>\n",
       "      <td>I didn't like this product it smudged all unde...</td>\n",
       "      <td>One Star</td>\n",
       "      <td>1491782400</td>\n",
       "      <td>NaN</td>\n",
       "      <td>NaN</td>\n",
       "      <td>NaN</td>\n",
       "    </tr>\n",
       "    <tr>\n",
       "      <th>8</th>\n",
       "      <td>5.0</td>\n",
       "      <td>True</td>\n",
       "      <td>01 3, 2017</td>\n",
       "      <td>AQ812VYVTC2RJ</td>\n",
       "      <td>014789302X</td>\n",
       "      <td>Khadijah Ali-Evans</td>\n",
       "      <td>I simply love the product. I appreciate print ...</td>\n",
       "      <td>Five Stars</td>\n",
       "      <td>1483401600</td>\n",
       "      <td>NaN</td>\n",
       "      <td>NaN</td>\n",
       "      <td>NaN</td>\n",
       "    </tr>\n",
       "    <tr>\n",
       "      <th>9</th>\n",
       "      <td>1.0</td>\n",
       "      <td>True</td>\n",
       "      <td>11 19, 2016</td>\n",
       "      <td>AMACNEW14ADMX</td>\n",
       "      <td>014789302X</td>\n",
       "      <td>rabiyaa123</td>\n",
       "      <td>it burns your eyes when u put it on  and very ...</td>\n",
       "      <td>i do not recommend.</td>\n",
       "      <td>1479513600</td>\n",
       "      <td>3</td>\n",
       "      <td>NaN</td>\n",
       "      <td>NaN</td>\n",
       "    </tr>\n",
       "  </tbody>\n",
       "</table>\n",
       "</div>"
      ],
      "text/plain": [
       "   overall  verified   reviewTime      reviewerID        asin  \\\n",
       "0      1.0      True  02 19, 2015  A1V6B6TNIC10QE  0143026860   \n",
       "1      4.0      True  12 18, 2014  A2F5GHSXFQ0W6J  0143026860   \n",
       "2      4.0      True  08 10, 2014  A1572GUYS7DGSR  0143026860   \n",
       "3      5.0      True  03 11, 2013   A1PSGLFK1NSVO  0143026860   \n",
       "4      5.0      True  12 25, 2011   A6IKXKZMTKGSC  0143026860   \n",
       "5      5.0     False  02 26, 2010  A36NF437WZLQ9E  0143026860   \n",
       "6      4.0     False   03 7, 2001  A10Q8NIFOVOHFV  0143026860   \n",
       "7      1.0      True  04 10, 2017  A26PO1B2Q2G1CS  014789302X   \n",
       "8      5.0      True   01 3, 2017   AQ812VYVTC2RJ  014789302X   \n",
       "9      1.0      True  11 19, 2016   AMACNEW14ADMX  014789302X   \n",
       "\n",
       "         reviewerName                                         reviewText  \\\n",
       "0   theodore j bigham                                              great   \n",
       "1        Mary K. Byke  My  husband wanted to reading about the Negro ...   \n",
       "2             David G  This book was very informative, covering all a...   \n",
       "3                TamB  I am already a baseball fan and knew a bit abo...   \n",
       "4          shoecanary  This was a good story of the Black leagues. I ...   \n",
       "5           W. Powell  Today I gave a book about the Negro Leagues of...   \n",
       "6  Robert S. Clay Jr.  The story of race relations in American histor...   \n",
       "7     Jacqueline Diaz  I didn't like this product it smudged all unde...   \n",
       "8  Khadijah Ali-Evans  I simply love the product. I appreciate print ...   \n",
       "9          rabiyaa123  it burns your eyes when u put it on  and very ...   \n",
       "\n",
       "                                             summary  unixReviewTime vote  \\\n",
       "0                                           One Star      1424304000  NaN   \n",
       "1  ... to reading about the Negro Baseball and th...      1418860800  NaN   \n",
       "2                                     Worth the Read      1407628800  NaN   \n",
       "3                                          Good Read      1362960000  NaN   \n",
       "4                More than facts, a good story read!      1324771200    5   \n",
       "5                         The Gift of Black Baseball      1267142400    4   \n",
       "6                     Baseball, America, and racism.       983923200   14   \n",
       "7                                           One Star      1491782400  NaN   \n",
       "8                                         Five Stars      1483401600  NaN   \n",
       "9                                i do not recommend.      1479513600    3   \n",
       "\n",
       "  style image  \n",
       "0   NaN   NaN  \n",
       "1   NaN   NaN  \n",
       "2   NaN   NaN  \n",
       "3   NaN   NaN  \n",
       "4   NaN   NaN  \n",
       "5   NaN   NaN  \n",
       "6   NaN   NaN  \n",
       "7   NaN   NaN  \n",
       "8   NaN   NaN  \n",
       "9   NaN   NaN  "
      ]
     },
     "execution_count": 5,
     "metadata": {},
     "output_type": "execute_result"
    }
   ],
   "source": [
    "review_df.head(10)"
   ]
  },
  {
   "cell_type": "markdown",
   "id": "speaking-speaking",
   "metadata": {},
   "source": [
    "### Review Dataset Basic Stats"
   ]
  },
  {
   "cell_type": "code",
   "execution_count": 6,
   "id": "level-spencer",
   "metadata": {},
   "outputs": [
    {
     "name": "stdout",
     "output_type": "stream",
     "text": [
      "Distinct user count: 324038\n",
      "Distinct item count: 32586\n",
      "Total review count: 371345\n"
     ]
    }
   ],
   "source": [
    "distinct_user_count = len(review_df[\"reviewerID\"].unique())\n",
    "print(\"Distinct user count: \" + str(distinct_user_count))\n",
    "\n",
    "distinct_item_count = len(review_df[\"asin\"].unique())\n",
    "print(\"Distinct item count: \" + str(distinct_item_count))\n",
    "\n",
    "total_review_count = len(review_df)\n",
    "print(\"Total review count: \" + str(total_review_count))\n"
   ]
  },
  {
   "cell_type": "markdown",
   "id": "occupied-nomination",
   "metadata": {},
   "source": [
    "### Filtered Dataset Basic Stats"
   ]
  },
  {
   "cell_type": "code",
   "execution_count": 7,
   "id": "fewer-diversity",
   "metadata": {},
   "outputs": [
    {
     "name": "stdout",
     "output_type": "stream",
     "text": [
      "Distinct user count: 1398\n",
      "Distinct item count: 1722\n",
      "Total review count: 8109\n"
     ]
    }
   ],
   "source": [
    "#remove users with less than 5 reviews\n",
    "filtered_df = review_df.groupby(by=\"reviewerID\").filter(lambda x: len(x) >= 5)\n",
    "\n",
    "distinct_user_count = len(filtered_df[\"reviewerID\"].unique())\n",
    "print(\"Distinct user count: \" + str(distinct_user_count))\n",
    "\n",
    "distinct_item_count = len(filtered_df[\"asin\"].unique())\n",
    "print(\"Distinct item count: \" + str(distinct_item_count))\n",
    "\n",
    "total_review_count = len(filtered_df)\n",
    "print(\"Total review count: \" + str(total_review_count))"
   ]
  },
  {
   "cell_type": "markdown",
   "id": "transparent-buffalo",
   "metadata": {},
   "source": [
    "### Filtered Dataset Per User Stats"
   ]
  },
  {
   "cell_type": "code",
   "execution_count": 8,
   "id": "retained-catch",
   "metadata": {},
   "outputs": [
    {
     "name": "stdout",
     "output_type": "stream",
     "text": [
      "Mean review count per user: 5.8004291845493565\n",
      "Median review count per user: 5.0\n"
     ]
    },
    {
     "data": {
      "image/png": "[encoded data removed]",
      "text/plain": [
       "<Figure size 1152x288 with 1 Axes>"
      ]
     },
     "metadata": {
      "needs_background": "light"
     },
     "output_type": "display_data"
    }
   ],
   "source": [
    "review_counts_per_user = filtered_df.groupby(by=\"reviewerID\")[\"overall\"].count()\n",
    "mean_review_per_user = review_counts_per_user.mean()\n",
    "print(\"Mean review count per user: \" + str(mean_review_per_user))\n",
    "\n",
    "median_review_per_user = review_counts_per_user.median()\n",
    "print(\"Median review count per user: \" + str(median_review_per_user))\n",
    "\n",
    "print_boxplot('Review Count Per User Stats', review_counts_per_user)"
   ]
  },
  {
   "cell_type": "code",
   "execution_count": 9,
   "id": "recent-guidance",
   "metadata": {},
   "outputs": [
    {
     "data": {
      "text/plain": [
       "<AxesSubplot:>"
      ]
     },
     "execution_count": 9,
     "metadata": {},
     "output_type": "execute_result"
    },
    {
     "data": {
      "image/png": "[encoded data removed]",
      "text/plain": [
       "<Figure size 720x288 with 1 Axes>"
      ]
     },
     "metadata": {
      "needs_background": "light"
     },
     "output_type": "display_data"
    }
   ],
   "source": [
    "review_counts_per_user.hist(grid = False, bins=10, figsize=(10,4))"
   ]
  },
  {
   "cell_type": "code",
   "execution_count": 10,
   "id": "packed-dragon",
   "metadata": {},
   "outputs": [
    {
     "data": {
      "image/png": "[encoded data removed]",
      "text/plain": [
       "<Figure size 1152x288 with 1 Axes>"
      ]
     },
     "metadata": {
      "needs_background": "light"
     },
     "output_type": "display_data"
    }
   ],
   "source": [
    "avg_point_per_user = filtered_df.groupby(by=\"reviewerID\")[\"overall\"].mean()\n",
    "print_boxplot('Average Review Point Per User Stats', avg_point_per_user)"
   ]
  },
  {
   "cell_type": "markdown",
   "id": "developing-birth",
   "metadata": {},
   "source": [
    "### Filtered Dataset Per Item Stats "
   ]
  },
  {
   "cell_type": "code",
   "execution_count": 15,
   "id": "vocational-reporter",
   "metadata": {},
   "outputs": [
    {
     "name": "stdout",
     "output_type": "stream",
     "text": [
      "Mean review count per item: 4.709059233449477\n",
      "Median review count per item: 1.0\n"
     ]
    },
    {
     "data": {
      "image/png": "[encoded data removed]",
      "text/plain": [
       "<Figure size 1152x288 with 1 Axes>"
      ]
     },
     "metadata": {
      "needs_background": "light"
     },
     "output_type": "display_data"
    }
   ],
   "source": [
    "review_counts_per_item = filtered_df.groupby(by=\"asin\")[\"overall\"].count()\n",
    "mean_review_per_item = review_counts_per_item.mean()\n",
    "print(\"Mean review count per item: \" + str(mean_review_per_item))\n",
    "\n",
    "median_review_per_item = review_counts_per_item.median()\n",
    "print(\"Median review count per item: \" + str(median_review_per_item))\n",
    "      \n",
    "print_boxplot('Review Count Per Item Stats', review_counts_per_item)"
   ]
  },
  {
   "cell_type": "code",
   "execution_count": 12,
   "id": "continuous-legislation",
   "metadata": {},
   "outputs": [
    {
     "data": {
      "image/png": "[encoded data removed]",
      "text/plain": [
       "<Figure size 1152x288 with 1 Axes>"
      ]
     },
     "metadata": {
      "needs_background": "light"
     },
     "output_type": "display_data"
    }
   ],
   "source": [
    "avg_point_per_item = filtered_df.groupby(by=\"asin\")[\"overall\"].mean()\n",
    "print_boxplot('Average Review Point Per Item Stats', avg_point_per_item)"
   ]
  },
  {
   "cell_type": "markdown",
   "id": "parliamentary-concentration",
   "metadata": {},
   "source": [
    "### Review Text Word Count Stats"
   ]
  },
  {
   "cell_type": "code",
   "execution_count": 29,
   "id": "marine-approach",
   "metadata": {},
   "outputs": [],
   "source": [
    "filtered_df = clean_text_column(filtered_df, \"reviewText\")"
   ]
  },
  {
   "cell_type": "code",
   "execution_count": 32,
   "id": "russian-muscle",
   "metadata": {},
   "outputs": [
    {
     "data": {
      "image/png": "[encoded data removed]",
      "text/plain": [
       "<Figure size 1152x288 with 1 Axes>"
      ]
     },
     "metadata": {
      "needs_background": "light"
     },
     "output_type": "display_data"
    }
   ],
   "source": [
    "filtered_df[\"reviewLength\"] = filtered_df[\"reviewText\"].apply(lambda x: len(x.split(\" \")))\n",
    "\n",
    "print_boxplot('Review Word Count Stats', filtered_df[\"reviewLength\"])"
   ]
  },
  {
   "cell_type": "markdown",
   "id": "dimensional-mexico",
   "metadata": {},
   "source": [
    "### Total Word Count In All Reviews Of The Item Stats"
   ]
  },
  {
   "cell_type": "code",
   "execution_count": 36,
   "id": "choice-penalty",
   "metadata": {},
   "outputs": [
    {
     "data": {
      "image/png": "[encoded data removed]",
      "text/plain": [
       "<Figure size 1152x288 with 1 Axes>"
      ]
     },
     "metadata": {
      "needs_background": "light"
     },
     "output_type": "display_data"
    }
   ],
   "source": [
    "total_word_count_in_all_reviews_of_item = filtered_df.groupby(by=\"asin\")[\"reviewLength\"].sum()\n",
    "\n",
    "print_boxplot('Total Word Count In All Reviews Of The Item', total_word_count_in_all_reviews_of_item)"
   ]
  },
  {
   "cell_type": "markdown",
   "id": "commercial-falls",
   "metadata": {},
   "source": [
    "### Total Word Count In All Reviews Of The User Stats"
   ]
  },
  {
   "cell_type": "code",
   "execution_count": 37,
   "id": "applicable-auckland",
   "metadata": {},
   "outputs": [
    {
     "data": {
      "image/png": "[encoded data removed]",
      "text/plain": [
       "<Figure size 1152x288 with 1 Axes>"
      ]
     },
     "metadata": {
      "needs_background": "light"
     },
     "output_type": "display_data"
    }
   ],
   "source": [
    "total_word_count_in_all_reviews_of_user = filtered_df.groupby(by=\"reviewerID\")[\"reviewLength\"].sum()\n",
    "\n",
    "print_boxplot('Total Word Count In All Reviews Of The User', total_word_count_in_all_reviews_of_user)"
   ]
  },
  {
   "cell_type": "code",
   "execution_count": null,
   "id": "lonely-chile",
   "metadata": {},
   "outputs": [],
   "source": []
  }
 ],
 "metadata": {
  "kernelspec": {
   "display_name": "Python 3",
   "language": "python",
   "name": "python3"
  },
  "language_info": {
   "codemirror_mode": {
    "name": "ipython",
    "version": 3
   },
   "file_extension": ".py",
   "mimetype": "text/x-python",
   "name": "python",
   "nbconvert_exporter": "python",
   "pygments_lexer": "ipython3",
   "version": "3.6.13"
  }
 },
 "nbformat": 4,
 "nbformat_minor": 5
}
